{
 "cells": [
  {
   "cell_type": "code",
   "execution_count": 130,
   "metadata": {},
   "outputs": [],
   "source": [
    "import numpy as np\n",
    "\n",
    "def seachnum(rannum):\n",
    "#Поиск загаданного числа и счетчик кол-ва попыток\n",
    "    counter=1\n",
    "    range100 = np.arange(1,101)\n",
    "    center=float(max(range100)/2)\n",
    "    с12=float(max(range100)/2)*0.12\n",
    "    c25=center/2\n",
    "    c75=center*1.5\n",
    "    c100=len(range100)\n",
    "    if center == rannum:\n",
    "        return counter\n",
    "    elif center>rannum:\n",
    "        c25 = round(center/2,0)\n",
    "        counter+=1\n",
    "        if c25>rannum:\n",
    "            while c25!=rannum:\n",
    "                c25-=1\n",
    "                counter+=1\n",
    "            print\n",
    "        elif c25<rannum:\n",
    "            while c25!=rannum:\n",
    "                c25+=1\n",
    "                counter+=1\n",
    "    elif center<rannum and rannum<=c100:\n",
    "        if c75<rannum:\n",
    "            while c75!=rannum:\n",
    "                c75+=1\n",
    "                counter+=1\n",
    "        elif c75>rannum:\n",
    "            while c75!=rannum:\n",
    "                c75-=1\n",
    "                counter+=1    \n",
    "    else:\n",
    "        if rannum>c100:\n",
    "            print(\"rannum вне диапазона.Введите число между 1 и 100 включительно\")\n",
    "            counter-=1\n",
    "    return print(\"Количество попыток = {}\".format(counter))\n",
    "\n",
    "       \n",
    "           "
   ]
  },
  {
   "cell_type": "code",
   "execution_count": 131,
   "metadata": {},
   "outputs": [
    {
     "name": "stdout",
     "output_type": "stream",
     "text": [
      "rannum вне диапазона.Введите число между 1 и 100 включительно\n",
      "Количество попыток = 0\n"
     ]
    }
   ],
   "source": [
    "seachnum(700)"
   ]
  },
  {
   "cell_type": "code",
   "execution_count": null,
   "metadata": {},
   "outputs": [],
   "source": []
  }
 ],
 "metadata": {
  "kernelspec": {
   "display_name": "Python 3",
   "language": "python",
   "name": "python3"
  },
  "language_info": {
   "codemirror_mode": {
    "name": "ipython",
    "version": 3
   },
   "file_extension": ".py",
   "mimetype": "text/x-python",
   "name": "python",
   "nbconvert_exporter": "python",
   "pygments_lexer": "ipython3",
   "version": "3.7.6"
  }
 },
 "nbformat": 4,
 "nbformat_minor": 4
}
